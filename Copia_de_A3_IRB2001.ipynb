{
  "cells": [
    {
      "cell_type": "markdown",
      "metadata": {
        "id": "_0rePC_iwiQE"
      },
      "source": [
        "# **CURSO: IRB2001 Fundamentos de la Robótica**\n",
        "\n",
        "### Profesor: Daniel Florea\n",
        "#### Ayudante: Jorge Apud\n",
        "\n",
        "---\n",
        "\n",
        "<div align='center'>\n",
        "    <img width=55% src=https://www.maniskill.ai/imgs/home/image-ky-02.webp>\n",
        "</div>"
      ]
    },
    {
      "cell_type": "markdown",
      "source": [
        "> En esta actividad exploraremos el aprendizaje por refuerzo en dos niveles de complejidad. Primero, trabajaremos con un simulador de péndulo invertido como ejemplo introductorio, programando un agente que implementa el algoritmo **Q-learning** en un entorno discreto. A través de este caso básico, analizaremos el funcionamiento de tablas Q, la política ε-greedy, el efecto de la función de recompensa y el rol de los hiperparámetros en el proceso de aprendizaje.  \n",
        ">\n",
        "> En una segunda parte, avanzaremos hacia un escenario más complejo utilizando **Proximal Policy Optimization (PPO)** para controlar un brazo robótico de 6 grados de libertad en la tarea de manipulación de objetos. Para esto utilizaremos el framework [ManiSkill](https://github.com/haosulab/ManiSkill), que nos permitirá trabajar con entornos realistas de robótica y aprovechar implementaciones avanzadas de algoritmos de aprendizaje por refuerzo.  \n",
        "\n",
        "<small>Dentro de los objetivos de la actividad se encuentran:  \n",
        "\n",
        "1. Comprender el funcionamiento del aprendizaje por refuerzo a través del caso básico del péndulo invertido.\n",
        "2. Implementar y analizar un agente que aprende mediante Q-learning, evaluando el impacto de los hiperparámetros y la función de recompensa.  \n",
        "3. Manipular un brazo robótico en un entorno simulado utilizando ManiSkill.\n",
        "4. Entrenar un agente avanzado con el algoritmo PPO para realizar tareas de manipulación de objetos.\n",
        "5. Reflexionar sobre las diferencias, desafíos y oportunidades al pasar de entornos simples con Q-learning a escenarios complejos con PPO en robótica.</small>  \n"
      ],
      "metadata": {
        "id": "kox_GdSvYAF7"
      }
    },
    {
      "cell_type": "markdown",
      "metadata": {
        "id": "XpgPn0UXyCP7"
      },
      "source": [
        "Esta actividad se basa en códigos de ejemplo desarrollados por los equipos de [Gymnasium](https://gymnasium.farama.org/) y [ManiSkill](https://github.com/haosulab/ManiSkill). Se agradece y reconoce el trabajo de sus autores, cuyo aporte fue clave para construir esta implementación.\n"
      ]
    },
    {
      "cell_type": "markdown",
      "metadata": {
        "id": "8XJxtMTAybyx"
      },
      "source": [
        "# **[IMPORTANTE]**\n",
        "\n",
        "* *Para la ejecución de este cuaderno es necesario estar conectado a un entorno con GPU*\n",
        "\n",
        "* Recuerda conectarte a un entorno con GPU (arriba a la derecha) **ANTES DE COMENZAR LA ACTIVIDAD** o si no perderas todas las variables de tu entorno al cambiarte.\n",
        "\n",
        "* Algunas celdas en este cuaderno toman mucho tiempo en ejecutar (10-20 min) entonces realiza la actividad con tiempo, no la hagas a ultimo minuto."
      ]
    },
    {
      "cell_type": "markdown",
      "metadata": {
        "id": "Sj-cQtUoyk8w"
      },
      "source": [
        "---\n",
        "\n",
        "# **Setup del entorno**\n",
        "En las siguientes celdas se importaran las librerias y repositorios necesarias para el desarrollo de la actividad."
      ]
    },
    {
      "cell_type": "markdown",
      "metadata": {
        "id": "EdUmTpGi05aT"
      },
      "source": [
        "**Despues de correr la siguiente celda por primera vez es necesario reiniciar el entorno**\n",
        "\n",
        "`Entorno de ejecución` >> `Reiniciar sesión`"
      ]
    },
    {
      "cell_type": "code",
      "execution_count": 1,
      "metadata": {
        "id": "jrmAoS8S0f6v"
      },
      "outputs": [],
      "source": [
        "%%capture\n",
        "!pip install --quiet --upgrade mani_skill>=3.0.1 torch>=2.3 tensorboard wandb"
      ]
    },
    {
      "cell_type": "markdown",
      "metadata": {
        "id": "V9yMTgBC03U_"
      },
      "source": [
        "La siguiente celda importa las librerias y descarga los archivos necesarios para el desarrollo de la actividad. Aqui se definen las variables del ambiente:\n",
        "\n",
        "- env: variable del ambiente de simulación para la primera parte de la actividad.\n",
        "- n_actions: acciones posibles para el ambiente de la primera parte de la actividad."
      ]
    },
    {
      "cell_type": "code",
      "execution_count": 1,
      "metadata": {
        "id": "QH8Y7_AQybTt",
        "colab": {
          "base_uri": "https://localhost:8080/"
        },
        "outputId": "3b145957-a61c-4ee8-cc24-1a549b9d2b2c"
      },
      "outputs": [
        {
          "output_type": "stream",
          "name": "stdout",
          "text": [
            "--2025-10-13 23:45:28--  https://raw.githubusercontent.com/haosulab/ManiSkill/main/examples/baselines/ppo/ppo.py\n",
            "Resolving raw.githubusercontent.com (raw.githubusercontent.com)... 185.199.108.133, 185.199.109.133, 185.199.110.133, ...\n",
            "Connecting to raw.githubusercontent.com (raw.githubusercontent.com)|185.199.108.133|:443... connected.\n",
            "HTTP request sent, awaiting response... 200 OK\n",
            "Length: 22982 (22K) [text/plain]\n",
            "Saving to: ‘ppo.py’\n",
            "\n",
            "\rppo.py                0%[                    ]       0  --.-KB/s               \rppo.py              100%[===================>]  22.44K  --.-KB/s    in 0.001s  \n",
            "\n",
            "2025-10-13 23:45:28 (18.6 MB/s) - ‘ppo.py’ saved [22982/22982]\n",
            "\n",
            "--2025-10-13 23:45:28--  https://raw.githubusercontent.com/haosulab/ManiSkill/main/examples/baselines/ppo/ppo_rgb.py\n",
            "Resolving raw.githubusercontent.com (raw.githubusercontent.com)... 185.199.108.133, 185.199.109.133, 185.199.110.133, ...\n",
            "Connecting to raw.githubusercontent.com (raw.githubusercontent.com)|185.199.108.133|:443... connected.\n",
            "HTTP request sent, awaiting response... 200 OK\n",
            "Length: 28267 (28K) [text/plain]\n",
            "Saving to: ‘ppo_rgb.py’\n",
            "\n",
            "ppo_rgb.py          100%[===================>]  27.60K  --.-KB/s    in 0.002s  \n",
            "\n",
            "2025-10-13 23:45:28 (16.6 MB/s) - ‘ppo_rgb.py’ saved [28267/28267]\n",
            "\n"
          ]
        }
      ],
      "source": [
        "import os\n",
        "import random\n",
        "from collections import deque\n",
        "from typing import Tuple, List, Sequence, Optional\n",
        "\n",
        "import numpy as np\n",
        "import gymnasium as gym\n",
        "from gymnasium.wrappers import RecordVideo\n",
        "import matplotlib.pyplot as plt\n",
        "\n",
        "# Para reproducir videos dentro de Colab\n",
        "from IPython.display import HTML\n",
        "import base64\n",
        "\n",
        "from pathlib import Path\n",
        "import subprocess\n",
        "import time\n",
        "from copy import deepcopy\n",
        "\n",
        "def setup_env(env_id: str = \"CartPole-v1\", seed: int = 42, render_mode: Optional[str] = None):\n",
        "    np.random.seed(seed)\n",
        "    random.seed(seed)\n",
        "    env = gym.make(env_id, render_mode=render_mode)\n",
        "    env.reset(seed=seed)\n",
        "    n_actions = env.action_space.n\n",
        "    return env, n_actions\n",
        "\n",
        "SEED = 42\n",
        "ENV_ID = \"CartPole-v1\"\n",
        "\n",
        "env, n_actions = setup_env(env_id=ENV_ID, seed=SEED, render_mode=None)\n",
        "\n",
        "!wget https://raw.githubusercontent.com/haosulab/ManiSkill/main/examples/baselines/ppo/ppo.py -O ppo.py\n",
        "!wget https://raw.githubusercontent.com/haosulab/ManiSkill/main/examples/baselines/ppo/ppo_rgb.py -O ppo_rgb.py"
      ]
    },
    {
      "cell_type": "markdown",
      "metadata": {
        "id": "AK5u-oNQ3Pe4"
      },
      "source": [
        "---\n",
        "\n",
        "# **Implementación de Q-learning en CartPole (11 ptos.)**\n",
        "\n",
        "Realizamos el set-up para entrenar un agente en el entorno clásico de péndulo invertido (CartPole).  \n",
        "Esta implementación requiere 3 elementos principales:\n",
        "\n",
        "1. Un entorno de simulación, en nuestro caso `CartPole-v1` de [Gymnasium](https://gymnasium.farama.org/), que nos entrega las observaciones y recompensas asociadas al comportamiento del sistema.  \n",
        "2. Un agente basado en **Q-learning**, que utiliza una tabla Q y una política ε-greedy para balancear exploración y explotación en la selección de acciones.  \n",
        "3. Un sistema de evaluación y visualización, que permite analizar el impacto de los hiperparámetros y de la función de recompensa en el desempeño del agente a lo largo de los episodios.  \n"
      ]
    },
    {
      "cell_type": "markdown",
      "metadata": {
        "id": "Trt0dRtI3jh7"
      },
      "source": [
        "## **(A1) Funciones basicas (2 ptos)**\n",
        "\n",
        "Funciones miscelaneas necesarias para el desarrollo de la actividad."
      ]
    },
    {
      "cell_type": "markdown",
      "metadata": {
        "id": "PU82Az2Q5v73"
      },
      "source": [
        "#### 1.1 Creacion de bins (1 pto.)\n",
        "Definimos una función que crea intervalos discretos para cada uno de los estados del pendulo, de esta manera podemos utilizar una Q-table discreta de los estados posibles.\n",
        "\n",
        "Esta función recibe 3 listas:\n",
        "\n",
        "- low: Lista del valor minimo de cada intervalo.\n",
        "- high: Lista del valor maximo de cada intervalo.\n",
        "- n_bins: Lista del numero de divisiones en el intervalo.\n",
        "\n",
        "Retorna:\n",
        "Una lista de los numpy arrays correspondientes a cada intervalo."
      ]
    },
    {
      "cell_type": "code",
      "execution_count": 2,
      "metadata": {
        "id": "TGq-Qr_G4ubn"
      },
      "outputs": [],
      "source": [
        "def create_bins(low: List, high: List, n_bins: List) -> List[np.ndarray]:\n",
        "    bins = []\n",
        "    for l, h, b in zip(low, high, n_bins):\n",
        "        # Creamos b+1 bordes de intervalos entre low y high\n",
        "        bins.append(np.linspace(l, h, b + 1))\n",
        "    return bins\n",
        "#Crea bins (bordes de intervalos) para discretizar cada dimensión del espacio de estados."
      ]
    },
    {
      "cell_type": "markdown",
      "metadata": {
        "id": "HjueVAG46gda"
      },
      "source": [
        "#### 1.2 Discretización del estado (1 pto.)\n",
        "\n",
        "Definimos una función que toma un estado continuo y le asigna el intervalo correspondiente segun una lista de intervalos.\n",
        "\n",
        "Esta función recibe:\n",
        "\n",
        "- obs: Array de estados del robot.\n",
        "- bins: Lista de arrays retornada por la función create_bins().\n",
        "- clip_low: Array de los valores minimos admisibles para cada estado.\n",
        "- clip_high: Array de los valores maximos admisibles para cada estado.\n",
        "\n",
        "Retorna:\n",
        "Una tupla con el indice correspondiente de cada estado al intervalo que le corresponde."
      ]
    },
    {
      "cell_type": "code",
      "execution_count": 3,
      "metadata": {
        "id": "ytXCAdZX6fe2"
      },
      "outputs": [],
      "source": [
        "\n",
        "def discretize_state(obs: np.ndarray, bins: List[np.ndarray], clip_low: np.ndarray, clip_high: np.ndarray) -> Tuple[int, ...]:\n",
        "    clipped = np.clip(obs, clip_low, clip_high)\n",
        "    idxs = []\n",
        "    for i, value in enumerate(clipped):\n",
        "        # np.digitize retorna el índice del bin al que pertenece el valor\n",
        "        idx = np.digitize(value, bins[i]) - 1  # -1 para que inicie desde 0\n",
        "        idxs.append(idx)\n",
        "\n",
        "    return tuple(idxs)\n",
        "#Discretiza un estado continuo en índices de bins para cada dimensión."
      ]
    },
    {
      "cell_type": "markdown",
      "metadata": {
        "id": "TLrZvuS49Bgo"
      },
      "source": [
        "#### Funciones de visualización y almacenamiento\n",
        "\n",
        "Las siguientes funciones **no** deben ser modificadas, son para poder visualizar los datos y almacenar el Q-table final del entrenamiento.\n",
        "\n",
        "La funcion save_q_table guarda un array de numpy para despues poder importar este valor en ves de tener que reentrenar al agente cada vez que se quiere realizar algun analisis, esto puede lograrse descargando este archivo y despues cargandolo con numpy.load(archivo)."
      ]
    },
    {
      "cell_type": "code",
      "execution_count": 4,
      "metadata": {
        "id": "5phiH6sr85lY"
      },
      "outputs": [],
      "source": [
        "\n",
        "def save_q_table(q_table: np.ndarray, path: str = \"artifacts/Q_table_cartpole.npy\"):\n",
        "    os.makedirs(os.path.dirname(path), exist_ok=True)\n",
        "    np.save(path, q_table)\n",
        "    print(f\"✅ Tabla Q guardada en: {path}\")\n",
        "\n",
        "def plot_learning_curves(returns, window=100, title_prefix=\"Q-Learning\"):\n",
        "    \"\"\"\n",
        "    Plots episode returns with a moving average overlay.\n",
        "    \"\"\"\n",
        "    # Compute moving average\n",
        "    mov = []\n",
        "    q = deque(maxlen=window)\n",
        "    for g in returns:\n",
        "        q.append(g)\n",
        "        mov.append(np.mean(q))\n",
        "\n",
        "    # Plot both on the same figure\n",
        "    plt.figure(figsize=(10, 5))\n",
        "    plt.title(f\"{title_prefix}: Retorno por episodio\", fontsize=14, fontweight='bold')\n",
        "\n",
        "    # Raw returns\n",
        "    plt.plot(returns, color='mediumpurple', alpha=0.4, linewidth=1.5, label='Retorno por episodio')\n",
        "\n",
        "    # Moving average\n",
        "    plt.plot(mov, color='rebeccapurple', linewidth=2.5, label=f'Media móvil ({window})')\n",
        "\n",
        "    # Labels and formatting\n",
        "    plt.xlabel(\"Episodio\", fontsize=12)\n",
        "    plt.ylabel(\"Retorno\", fontsize=12)\n",
        "    plt.grid(True, linestyle='--', alpha=0.6)\n",
        "    plt.legend(frameon=False, fontsize=11)\n",
        "    plt.tight_layout()\n",
        "    plt.show()\n",
        "\n",
        "def record_greedy_episode_video(env_id: str, agent, max_steps: int = 500, seed: int = 123, video_folder: str = \"videos\", name_prefix: str = \"qlearn_cartpole\"):\n",
        "\n",
        "    video_env = gym.make(env_id, render_mode=\"rgb_array\")\n",
        "    video_env = RecordVideo(video_env,\n",
        "                            video_folder=video_folder,\n",
        "                            name_prefix=name_prefix)\n",
        "    obs, _ = video_env.reset(seed=seed)\n",
        "    s = agent._state_to_idx(obs)\n",
        "    total = 0.0\n",
        "\n",
        "    for _ in range(max_steps):\n",
        "        a = int(np.argmax(agent.Q[s]))\n",
        "        obs, r, terminated, truncated, _ = video_env.step(a)\n",
        "        s = agent._state_to_idx(obs)\n",
        "        total += r\n",
        "        if terminated or truncated:\n",
        "            break\n",
        "\n",
        "    video_env.close()\n",
        "    print(f\"🎥 Video grabado en ./{video_folder} (retorno={total:.1f})\")\n",
        "    return total\n",
        "\n",
        "def play_video_colab(path: str):\n",
        "    mp4 = open(path, \"rb\").read()\n",
        "    data_url = \"data:video/mp4;base64,\" + base64.b64encode(mp4).decode()\n",
        "    return HTML(f\"\"\"<video width=\"640\" height=\"480\" controls>\n",
        "      <source src=\"{data_url}\" type=\"video/mp4\">\n",
        "      </video>\"\"\")\n"
      ]
    },
    {
      "cell_type": "markdown",
      "metadata": {
        "id": "IF08scGh-IOP"
      },
      "source": [
        "## **(A2) Clase Agente Q-learning (4 ptos.)**\n",
        "\n",
        "Implementación de la clase del agente de aprendizaje reforzado."
      ]
    },
    {
      "cell_type": "markdown",
      "metadata": {
        "id": "JbZUMUzBMokD"
      },
      "source": [
        "#### 2.1 Función de recompensa / Reward function (1 pto.)\n",
        "\n",
        "Definimos una función de recompensa para darle a nuestro agente, esta recibe 4 parametros:\n",
        "\n",
        "- obs: Array del estado actual del robot\n",
        "    - obs[0] = coordenada x del carro\n",
        "    - obs[1] = velocidad x del carro\n",
        "    - obs[2] = posicion angular del pendulo (angulo 0 es arriba)\n",
        "    - obs[3] = velocidad angular del pendulo\n",
        "- reward: Recompensa asignada por el ambiente al estado actual (+1 por cada paso completado, sea bueno o malo)\n",
        "- terminated: Bool que indica si el robot falló en la tarea (Se cayó el pendulo o se alejo el carro de la pantalla), es verdadero si el robot falló y falso si el robot no ha fallado.\n",
        "- truncated: Bool que indica que se acabó el tiempo de ejecución sin un fallo, es decir, el robot logró mantener el pendulo levantado y a si mismo dentro de la pantalla.\n",
        "\n",
        "Debe retornar un float del valor de recompensa personalizado **definido por ti**, esta logica es lo que define como se comportará tu agente. Puedes decidir si premiarlo constantemente por acciones correctas, penalizarlo por salirse de un rango de operación, solo darle reward en casos terminales, o cualquier otra idea que se te ocurra. La desicion es **completamente libre**."
      ]
    },
    {
      "cell_type": "code",
      "execution_count": 5,
      "metadata": {
        "id": "duskD6DTMnfl"
      },
      "outputs": [],
      "source": [
        "def custom_reward(obs: np.ndarray, reward: float, terminated: bool, truncated: bool) -> float:\n",
        "    \"\"\"\n",
        "    Recompensa personalizada para el entorno CartPole.\n",
        "    obs[0]: posición del carro (x)\n",
        "    obs[1]: velocidad del carro\n",
        "    obs[2]: ángulo del péndulo (0 = vertical)\n",
        "    obs[3]: velocidad angular\n",
        "    \"\"\"\n",
        "    # Recompensa base del entorno (+1 por paso sobrevivido)\n",
        "    total_reward = reward\n",
        "\n",
        "    # Factores máximos aproximados del entorno\n",
        "    max_pos = 2.4     # Límite de la posición x del carro\n",
        "    max_angle = 0.209 # ~12 grados en radianes (límite del ángulo permitido)\n",
        "\n",
        "    # Penalizar desviaciones del centro y del ángulo\n",
        "    pos_penalty = abs(obs[0]) / max_pos\n",
        "    angle_penalty = abs(obs[2]) / max_angle\n",
        "\n",
        "    # Usamos pesos para balancear importancia\n",
        "    w_angle = 1.5   # mantener el péndulo vertical es lo más importante\n",
        "    w_pos = 0.5     # no alejarse del centro\n",
        "\n",
        "    # Recompensa por estar cerca del centro y del ángulo 0 (invertido: 1 - penalización)\n",
        "    total_reward += (1 - angle_penalty) * w_angle\n",
        "    total_reward += (1 - pos_penalty) * w_pos\n",
        "\n",
        "    # Si el episodio termina por fallo, aplicamos gran penalización\n",
        "    if terminated:\n",
        "        total_reward -= 5.0\n",
        "\n",
        "    return total_reward"
      ]
    },
    {
      "cell_type": "markdown",
      "metadata": {
        "id": "DBHQoWn2PKux"
      },
      "source": [
        "#### 2.2 Agente (3 ptos.)\n",
        "\n",
        "Definimos la clase **QLearningAgent**, esta define el comportamiento del controlador del robot, realiza el entrenamiento y la evaluación de una política.\n",
        "\n",
        "Recibe como parámetros iniciales:\n",
        "\n",
        "- **n_bins**: *Iterable* que define el número de intervalos para cada estado.  \n",
        "- **n_actions**: *int* que describe el número de acciones posibles dentro del ambiente.  \n",
        "- **alpha**: *float* del *learning rate* del agente.  \n",
        "- **gamma**: *float* del factor de descuento de recompensas futuras en la actualización de Q.  \n",
        "- **eps_start**: *float* del factor de exploración inicial.  \n",
        "- **eps_end**: *float* del factor de exploración mínimo permitido durante el entrenamiento.  \n",
        "- **eps_decay**: *float* factor con el que disminuye el factor de exploración en cada episodio de entrenamiento.  \n",
        "- **reward_fn**: función de recompensa con la que evaluar cada estado.  \n",
        "\n",
        "Además posee los atributos:\n",
        "\n",
        "- **self._bins**: listas de bordes para discretizar cada dimensión del espacio de estados.  \n",
        "- **self._clip_low**: límites inferiores para cada variable de estado, usados al discretizar.  \n",
        "- **self._clip_high**: límites superiores para cada variable de estado, usados al discretizar.  \n",
        "- **self.Q**: tabla Q de valores estado–acción, inicializada en ceros y actualizada durante el entrenamiento.  \n",
        "\n",
        "Posee los métodos:\n",
        "\n",
        "- **set_discretizer(self, bins, clip_low, clip_high):** configura la estrategia de discretización asignando los *bins* y límites de observación.  \n",
        "- **_state_to_idx(self, obs):** convierte un estado continuo en un índice discreto utilizando los *bins* definidos.  \n",
        "- **select_action(self, state_idx, explore=True):** selecciona una acción según la política ε-greedy, balanceando exploración y explotación.  \n",
        "- **train_episode(self, env, max_steps=500):** ejecuta un episodio completo de entrenamiento, actualizando la tabla Q en cada paso, retornando la recompensa acumulada.  \n",
        "- **eval_episode(self, env, max_steps=500):** ejecuta un episodio de evaluación (sin actualización de Q), retornando la recompensa acumulada.  \n",
        "- **decay_epsilon(self):** reduce el valor de ε en cada episodio siguiendo la tasa de decaimiento definida.  \n",
        "\n",
        "\n",
        "Debes completar los metodos:\n",
        "\n",
        "- **select_action**\n",
        "\n",
        "- **train_episode**\n",
        "\n",
        "- **eval_episode**\n",
        "\n",
        "- **decay_epsilon**"
      ]
    },
    {
      "cell_type": "code",
      "execution_count": 7,
      "metadata": {
        "id": "jlivzBkEMjWz"
      },
      "outputs": [],
      "source": [
        "\n",
        "class QLearningAgent:\n",
        "    def __init__(self, n_bins, n_actions: int, alpha: float = 0.1, gamma: float = 0.99, eps_start: float = 1.0,eps_end: float = 0.05, eps_decay: float = 0.999,reward_fn=None):\n",
        "        self.n_bins = tuple(n_bins)\n",
        "        self.n_actions = n_actions\n",
        "        self.alpha = alpha\n",
        "        self.gamma = gamma\n",
        "        self.epsilon = eps_start\n",
        "        self.eps_end = eps_end\n",
        "        self.eps_decay = eps_decay\n",
        "        self.reward_fn = reward_fn\n",
        "\n",
        "        self.Q = np.zeros((*self.n_bins, n_actions), dtype=np.float32)\n",
        "\n",
        "        self._bins = None\n",
        "        self._clip_low = None\n",
        "        self._clip_high = None\n",
        "\n",
        "    def set_discretizer(self, bins, clip_low, clip_high):\n",
        "        self._bins = bins\n",
        "        self._clip_low = np.array(clip_low, dtype=np.float32)\n",
        "        self._clip_high = np.array(clip_high, dtype=np.float32)\n",
        "\n",
        "    def _state_to_idx(self, obs):\n",
        "        assert self._bins is not None, \"Llama set_discretizer() antes de usar el agente.\"\n",
        "        return discretize_state(obs, self._bins, self._clip_low, self._clip_high)\n",
        "\n",
        "    def select_action(self, state_idx, explore=True):\n",
        "        if explore and np.random.rand() < self.epsilon:\n",
        "            # Exploración: acción aleatoria\n",
        "            return np.random.randint(self.n_actions)\n",
        "        else:\n",
        "            # Explotación: mejor acción según Q\n",
        "            return int(np.argmax(self.Q[state_idx]))\n",
        "\n",
        "    def train_episode(self, env, max_steps: int = 500) -> float:\n",
        "        obs, _ = env.reset()\n",
        "        s = self._state_to_idx(obs)\n",
        "        G = 0.0\n",
        "\n",
        "        for _ in range(max_steps):\n",
        "            a = self.select_action(s, explore=True)\n",
        "            next_obs, r, terminated, truncated, _ = env.step(a)\n",
        "\n",
        "            # Aplicar función de recompensa personalizada si existe\n",
        "            if self.reward_fn:\n",
        "                reward = self.reward_fn(next_obs, r, terminated, truncated)\n",
        "            else:\n",
        "                reward = r\n",
        "\n",
        "\n",
        "            s2 = self._state_to_idx(next_obs)\n",
        "\n",
        "            # Actualización Q-learning\n",
        "            # Q(s,a) = Q(s,a) + alpha * [reward + gamma * max_a' Q(s2,a') - Q(s,a)]\n",
        "            best_next = np.max(self.Q[s2])\n",
        "            td_target = reward + self.gamma * best_next\n",
        "            self.Q[s][a] += self.alpha * (td_target - self.Q[s][a])\n",
        "\n",
        "            G += reward\n",
        "            s = s2\n",
        "            if terminated or truncated:\n",
        "                break\n",
        "        return G\n",
        "\n",
        "    def eval_episode(self, env, max_steps: int = 500) -> float:\n",
        "        obs, _ = env.reset()\n",
        "        s = self._state_to_idx(obs)\n",
        "        G = 0.0\n",
        "\n",
        "        for _ in range(max_steps):\n",
        "            a = self.select_action(s, explore=False)\n",
        "            obs, r, terminated, truncated, _ = env.step(a)\n",
        "\n",
        "            if self.reward_fn:\n",
        "                reward = self.reward_fn(obs, r, terminated, truncated)\n",
        "            else:\n",
        "                reward = r\n",
        "\n",
        "            s = self._state_to_idx(obs)\n",
        "            G += reward\n",
        "            if terminated or truncated:\n",
        "                break\n",
        "        return G\n",
        "\n",
        "    def decay_epsilon(self):\n",
        "         self.epsilon = max(self.eps_end, self.epsilon * self.eps_decay)"
      ]
    },
    {
      "cell_type": "markdown",
      "metadata": {
        "id": "c5gyitAnWdRU"
      },
      "source": [
        "## **(A3) Entrenamiento agente (3 ptos.)**\n",
        "\n",
        "Aqui se realiza el entrenamiento del agente utilizando las funciones y clase definidas anteriormente."
      ]
    },
    {
      "cell_type": "markdown",
      "metadata": {
        "id": "HyyS7RW9W75h"
      },
      "source": [
        "### 3.1 Creacion bins (0.5 ptos.)\n",
        "\n",
        "Se generan los bins utilizando la función del item **1.1**, defina las variables N_BINS, OBS_CLIP_LOW y OBS_CLIP_HIGH con valores razonables.\n"
      ]
    },
    {
      "cell_type": "code",
      "execution_count": 8,
      "metadata": {
        "id": "JweC1_KkZItF"
      },
      "outputs": [],
      "source": [
        "N_BINS = (6, 6, 12, 6)\n",
        "\n",
        "OBS_CLIP_LOW = np.array([-4.8, -3.0, -0.418, -4.0])\n",
        "OBS_CLIP_HIGH = np.array([4.8, 3.0, 0.418, 4.0])\n",
        "\n",
        "# Crear bins\n",
        "bins = create_bins(OBS_CLIP_LOW, OBS_CLIP_HIGH, N_BINS)"
      ]
    },
    {
      "cell_type": "markdown",
      "metadata": {
        "id": "BAkhzxyKZhBn"
      },
      "source": [
        "### 3.2 Instancia agente (0.5 ptos.)\n",
        "\n",
        "Se genera la instancia del agente de la clase QLearningAgent, defina los parametros del agente con valores razonables. Llame tambien al metodo para generar los intervalos discretos para los estados.\n",
        "\n"
      ]
    },
    {
      "cell_type": "code",
      "execution_count": 9,
      "metadata": {
        "id": "F8PfF_0YZ2Ue"
      },
      "outputs": [],
      "source": [
        "\n",
        "N_EPISODES     = 5000   # número de episodios de entrenamiento\n",
        "MAX_STEPS      = 500    # pasos máximos por episodio\n",
        "GAMMA          = 0.99   # descuento de recompensas futuras\n",
        "ALPHA          = 0.1    # learning rate\n",
        "EPS_START      = 1.0    # epsilon inicial (exploración total)\n",
        "EPS_END        = 0.05   # epsilon mínimo\n",
        "EPS_DECAY      = 0.995  # factor de decaimiento de epsilon\n",
        "\n",
        "agent = QLearningAgent(\n",
        "    n_bins=N_BINS,\n",
        "    n_actions=n_actions,\n",
        "    alpha=ALPHA,\n",
        "    gamma=GAMMA,\n",
        "    eps_start=EPS_START,\n",
        "    eps_end=EPS_END,\n",
        "    eps_decay=EPS_DECAY,\n",
        "    reward_fn=custom_reward  # usamos nuestra recompensa personalizada\n",
        ")\n",
        "\n",
        "# Configurar discretizador del estado\n",
        "agent.set_discretizer(bins, OBS_CLIP_LOW, OBS_CLIP_HIGH)\n",
        "\n"
      ]
    },
    {
      "cell_type": "markdown",
      "metadata": {
        "id": "B0H6NDCzbLD8"
      },
      "source": [
        "### 3.3 Entrenamiento agente (2 ptos.)\n",
        "\n",
        "Se realiza el flujo de codigo para generar el entrenamiento completo del agente.\n",
        "\n",
        "En este se deben utilizar el metodo para realizar un episodio de entrenamiento segun el numero de iteraciones que se quiere entrenar, se debe añadir los rewards de entrenamiento a la lista returns para poder graficar el desempeño a lo largo del periodo de evaluación y se debe realizar el decaimiento del valor de epsilon.\n",
        "\n",
        "Aqui tambien se implementa un metodo de detención temprana si es que el promedio del reward de las ultimas iteraciones supera un cierto umbral, esto detiene el entrenamiento si es que el agente llega a un cierto desempeño.\n",
        "\n",
        "Se deben definir los parametros:\n",
        "- EVAL_EVERY: Cada cuantos episodios de entrenamiento generar una evaluación para presentar metricas actuales.\n",
        "- EVAL_EPISODES: Cuantos episodios de evaluación genera en cada instancia de evaluación.\n",
        "- TARGET_RETURN: El umbral de reward promedio con el que detener el entrenamiento.\n",
        "- MA_WINDOW: Numero de episodios sobre los cuales se toma el promedio movil de los datos (Moving average window).\n",
        "\n",
        "Decide el valor de TARGET_RETURN segun los valores que retorna tu función de recompensa (una regla de simple puede ser calcular el valor del reward si el agente actua de manera correcta un X% del total de pasos)"
      ]
    },
    {
      "cell_type": "code",
      "execution_count": 10,
      "metadata": {
        "id": "XZqjAJlna8c6",
        "colab": {
          "base_uri": "https://localhost:8080/"
        },
        "outputId": "726d1ea4-8e6a-4124-d7cd-a4222f36445c"
      },
      "outputs": [
        {
          "output_type": "stream",
          "name": "stdout",
          "text": [
            "[Ep      1] Train G=  60.5 | Eval mean=  35.4± 15.0 | eps=0.995\n",
            "[Ep    100] Train G=  32.3 | Eval mean= 153.8±188.5 | eps=0.606\n",
            "[Ep    200] Train G=  62.7 | Eval mean= 119.8±114.3 | eps=0.367\n",
            "✅ Criterio alcanzado: media móvil ≥ 180 en ep 281.\n",
            "✅ Tabla Q guardada en: artifacts/Q_table_cartpole.npy\n"
          ]
        }
      ],
      "source": [
        "EVAL_EVERY     = 100     # Evaluar cada 100 episodios\n",
        "EVAL_EPISODES  = 10      # En cada evaluación, correr 10 episodios sin aprendizaje\n",
        "TARGET_RETURN  = 180     # Si promedio móvil >= 180, se considera buen desempeño\n",
        "MA_WINDOW      = 100     # Ventana de 100 episodios para promedio móvil\n",
        "\n",
        "returns = []\n",
        "best_eval = -np.inf\n",
        "\n",
        "for ep in range(1, N_EPISODES + 1):\n",
        "    # EPISODIO DE ENTRENAMIENTO\n",
        "    G = agent.train_episode(env, max_steps=MAX_STEPS)\n",
        "    returns.append(G)\n",
        "\n",
        "    # Decaer epsilon\n",
        "    agent.epsilon = max(agent.eps_end, agent.epsilon * agent.eps_decay)\n",
        "\n",
        "    # Evaluación periódica (sin aprendizaje)\n",
        "    if ep % EVAL_EVERY == 0 or ep == 1:\n",
        "        eval_scores = []\n",
        "        for _ in range(EVAL_EPISODES):\n",
        "            eval_scores.append(agent.eval_episode(env, max_steps=MAX_STEPS))\n",
        "\n",
        "        mean_eval = float(np.mean(eval_scores))\n",
        "        std_eval  = float(np.std(eval_scores))\n",
        "        best_eval = max(best_eval, mean_eval)\n",
        "\n",
        "        print(f\"[Ep {ep:6d}] Train G={G:6.1f} | Eval mean={mean_eval:6.1f}±{std_eval:5.1f} | eps={agent.epsilon:.3f}\")\n",
        "\n",
        "    # Parada temprana opcional usando media móvil\n",
        "    if len(returns) >= MA_WINDOW and np.mean(returns[-MA_WINDOW:]) >= TARGET_RETURN:\n",
        "        print(f\"✅ Criterio alcanzado: media móvil ≥ {TARGET_RETURN} en ep {ep}.\")\n",
        "        break\n",
        "\n",
        "save_q_table(agent.Q, path=\"artifacts/Q_table_cartpole.npy\")"
      ]
    },
    {
      "cell_type": "markdown",
      "metadata": {
        "id": "DyrMBqq3fZ_c"
      },
      "source": [
        "## **(A4) Visualización metricas (1 pto.)**\n",
        "\n",
        "Graficamos la evolución del aprendizaje de su agente utilizando las funciones definidas previamente.\n",
        "\n",
        "Reporta el valor de reward promedio final en un episodio de evaluación junto con su desviación estandar (media ± desviación estandar).\n",
        "\n",
        "Comenta sobre los graficos y el valor final de reward, que tendencias puede observar en cada uno de los graficos."
      ]
    },
    {
      "cell_type": "code",
      "execution_count": 11,
      "metadata": {
        "id": "E2_sA5gvfvGl",
        "colab": {
          "base_uri": "https://localhost:8080/",
          "height": 1000
        },
        "outputId": "a468f00e-4e95-4efb-f9a2-034e43b2e0da"
      },
      "outputs": [
        {
          "output_type": "display_data",
          "data": {
            "text/plain": [
              "<Figure size 1000x400 with 1 Axes>"
            ],
            "image/png": "[encoded data removed]"
          },
          "metadata": {}
        },
        {
          "output_type": "display_data",
          "data": {
            "text/plain": [
              "<Figure size 1000x400 with 1 Axes>"
            ],
            "image/png": "[encoded data removed]"
          },
          "metadata": {}
        },
        {
          "output_type": "stream",
          "name": "stdout",
          "text": [
            "Evaluación final: media=277.8 ± 112.2 (n=5)\n"
          ]
        },
        {
          "output_type": "display_data",
          "data": {
            "text/plain": [
              "<Figure size 1000x400 with 1 Axes>"
            ],
            "image/png": "[encoded data removed]"
          },
          "metadata": {}
        }
      ],
      "source": [
        "#GRAFICOS DE ENTRENAMIENTO\n",
        "\n",
        "# 1.Gráfico de retornos por episodio\n",
        "plt.figure(figsize=(10,4))\n",
        "plt.plot(returns, alpha=0.6)\n",
        "plt.title(\"Evolución del Return por Episodio (Training)\")\n",
        "plt.xlabel(\"Episodio\")\n",
        "plt.ylabel(\"G\")\n",
        "plt.grid(True)\n",
        "plt.show()\n",
        "\n",
        "# 2.Gráfico de media móvil (suavizado)\n",
        "window = MA_WINDOW\n",
        "if len(returns) >= window:\n",
        "    ma = np.convolve(returns, np.ones(window)/window, mode='valid')\n",
        "    plt.figure(figsize=(10,4))\n",
        "    plt.plot(ma, label=f\"Media móvil ({window})\")\n",
        "    plt.title(\"Media móvil del Return (Training)\")\n",
        "    plt.xlabel(\"Episodio\")\n",
        "    plt.ylabel(f\"Return promedio {window}\")\n",
        "    plt.grid(True)\n",
        "    plt.legend()\n",
        "    plt.show()\n",
        "\n",
        "# 3.Gráfico de epsilon (exploración)\n",
        "eps_values = []\n",
        "eps_temp = EPS_START\n",
        "for _ in range(N_EPISODES):\n",
        "    eps_values.append(eps_temp)\n",
        "    eps_temp = max(EPS_END, eps_temp * EPS_DECAY)\n",
        "\n",
        "plt.figure(figsize=(10,4))\n",
        "plt.plot(eps_values)\n",
        "plt.title(\"Evolución de ε (exploración)\")\n",
        "plt.xlabel(\"Episodio\")\n",
        "plt.ylabel(\"ε\")\n",
        "plt.grid(True)\n",
        "\n",
        "final_scores = []\n",
        "for _ in range(5):\n",
        "    final_scores.append(agent.eval_episode(env, max_steps=MAX_STEPS))\n",
        "print(f\"Evaluación final: media={np.mean(final_scores):.1f} ± {np.std(final_scores):.1f} (n=5)\")"
      ]
    },
    {
      "cell_type": "markdown",
      "metadata": {
        "id": "6X-aO0kBgg36"
      },
      "source": [
        "Return por episodio: Al principio, los retornos son bajos y muy cambiantes porque el agente prueba acciones al azar. Con el tiempo, algunos episodios muestran valores mucho más altos, lo que indica que el agente empieza a aprender buenas estrategias. En general, los resultados tienden a mejorar conforme avanza el entrenamiento.\n",
        "\n",
        "Media móvil del Return: La media móvil ayuda a ver la tendencia sin tanto ruido. Se observa un aumento constante hasta valores más altos, mostrando que el desempeño promedio del agente está mejorando y que la política se está estabilizando. Los primeros episodios son importantes para que el agente aprenda la base de la estrategia.\n",
        "\n",
        "Evolución de ε (exploración): Al inicio, ε es 1.0, lo que hace que el agente explore mucho. Luego disminuye poco a poco hasta cerca de 0.05, permitiendo que el agente use más lo que ha aprendido. Esto refleja que primero se explora y después se aprovechan las mejores acciones.\n",
        "\n"
      ]
    },
    {
      "cell_type": "markdown",
      "metadata": {
        "id": "6IbQbt9RiMby"
      },
      "source": [
        "## **(A5) Visualización agente (1pto.)**\n",
        "\n",
        "Se graba y muestra un video del agente funcionando para 2 condiciones iniciales distintas para ver como se comporta el agente.\n"
      ]
    },
    {
      "cell_type": "code",
      "execution_count": null,
      "metadata": {
        "id": "sPbV46MMkp3-"
      },
      "outputs": [],
      "source": [
        "# == COMPLETAR =="
      ]
    },
    {
      "cell_type": "markdown",
      "metadata": {
        "id": "5xUmZAvugGaI"
      },
      "source": [
        "¿Que comportamientos puedes observar en tu agente? ¿Cuales crees que son buenos y cuales crees que son malos? ¿Como podrias modificar tu función de reward para promover los comportamientos buenos y penalizar los malos?"
      ]
    },
    {
      "cell_type": "markdown",
      "metadata": {
        "id": "RyhDAq3vgnjl"
      },
      "source": [
        "---\n",
        "\n",
        "*(Rellena con tu respuesta aqui)*\n",
        "\n",
        "\n",
        "\n",
        "---"
      ]
    },
    {
      "cell_type": "markdown",
      "metadata": {
        "id": "tnEOnfj1yH1r"
      },
      "source": [
        "# **Implementación proximal policy optimization con ManiSkill (10 ptos.)**\n",
        "\n",
        "> En esta segunda parte trabajaremos con el simulador [ManiSkill](https://github.com/haosulab/ManiSkill) para entrenar políticas de control sobre brazos roboticos. Utilizando paralelización en GPU para acelerar el aprendizaje.\n",
        "\n",
        "El algoritmo de proximal policy optimization al ser más complejo que Q-learning requiere archivos de implementación más avanzados, por esto mismo la implementación que realizaremos ahora es una manera de ejecutar estos archivos desde colab.\n",
        "\n",
        "En las siguientes secciones abordaremos los escenarios `PushCube-v1` y `PullCube-v1` en dos modalidades de observación:\n",
        "- **Representación por estado.** (archivo `ppo.py`)\n",
        "- **Representación visual RGB.** (archivo `ppo_rgb.py`)"
      ]
    },
    {
      "cell_type": "markdown",
      "metadata": {
        "id": "MRffCQ9E2m4_"
      },
      "source": [
        "---\n",
        "## **(A6) Configuración base y utilidades (3 ptos.)**\n",
        "\n",
        "Definimos funciones auxiliares y parametros para lanzar entrenamientos y evaluaciones desde el notebook.\n"
      ]
    },
    {
      "cell_type": "markdown",
      "metadata": {
        "id": "YFt0_9ktE9GY"
      },
      "source": [
        "Creamos una carpeta donde guardar los resultados."
      ]
    },
    {
      "cell_type": "code",
      "execution_count": null,
      "metadata": {
        "id": "DXWSUSSd2jCy"
      },
      "outputs": [],
      "source": [
        "# Carpeta donde \"ppo.py\" y \"ppo_rgb.py\" guardan resultados\n",
        "RUNS_DIR = Path(\"runs\")\n",
        "RUNS_DIR.mkdir(exist_ok=True)"
      ]
    },
    {
      "cell_type": "markdown",
      "metadata": {
        "id": "AzyyTHK46tNb"
      },
      "source": [
        "#### 6.1 Diccionario a CLI (1 pto.)\n",
        "Definimos una función que transforma un diccionario a un lista de argumentos para comandos de linea de terminal (CLI).\n",
        "\n",
        "Esta recibe un diccionario y debe retornar una lista de la forma:\n",
        "\n",
        "[\"--argumento_1=valor_1\", \"--argumento_2=valor_2\", ...]"
      ]
    },
    {
      "cell_type": "code",
      "execution_count": null,
      "metadata": {
        "id": "kjH4oKM15md9"
      },
      "outputs": [],
      "source": [
        "def dict_to_cli(args_dict):\n",
        "    cli_args = []\n",
        "    # == COMPLETAR ==\n",
        "    return cli_args"
      ]
    },
    {
      "cell_type": "markdown",
      "metadata": {
        "id": "D5kfryrK83n5"
      },
      "source": [
        "#### 6.2 Funcion de entrenamiento (1 pto.)\n",
        "\n",
        "Definimos una funcion que ejecuta los archivos de entrenamiento mediante comandos de terminal.\n",
        "\n",
        "Esta recibe:\n",
        "\n",
        "- script_name: string del nombre del archivo a ejecutar.\n",
        "- env_id: string del ambiente en el cual realizar el entrenamiento.\n",
        "- exp_name: string de la experiencia que se va a realizar.\n",
        "- base_args: diccionario de los argumentos a utilizar para ejecutar el script.\n",
        "- extra_args: diccionario con argumentos extra, utilizado para poder aprovechar esta misma función para evaluación.\n",
        "\n",
        "Retorna el resultado del entrenamiento."
      ]
    },
    {
      "cell_type": "code",
      "execution_count": null,
      "metadata": {
        "id": "wY6NcKqn5tDV"
      },
      "outputs": [],
      "source": [
        "def run_training(script_name: str, env_id: str, exp_name: str, base_args: dict, extra_args=None):\n",
        "    args = [f'--env-id={env_id}', f'--exp-name={exp_name}']\n",
        "\n",
        "    args = None # == COMPLETAR ==\n",
        "\n",
        "    cmd = ['python', script_name, *args]\n",
        "    print('Ejecutando:', ' '.join(cmd))\n",
        "    start = time.time()\n",
        "    process = subprocess.run(cmd, check=False)\n",
        "    elapsed = (time.time() - start) / 60\n",
        "    status = 'OK' if process.returncode == 0 else f'Error (código {process.returncode})'\n",
        "    print(f'{status} · Duración aproximada: {elapsed:.1f} min')\n",
        "    return process.returncode"
      ]
    },
    {
      "cell_type": "markdown",
      "metadata": {
        "id": "YthTm7XI-sCn"
      },
      "source": [
        "#### 6.3 Funcion de evaluación. (1 pto.)\n",
        "\n",
        "Definimos una funcion que ejecuta una evaluación de un modelo entrenado mediante comandos de terminal.\n",
        "\n",
        "Esta recibe:\n",
        "\n",
        "- script_name: string del nombre del archivo a ejecutar.\n",
        "- env_id: string del ambiente en el cual realizar la evaluación.\n",
        "- exp_name: string de la experiencia que se va a realizar.\n",
        "- checkpoint_path: Path de la ubicación del modelo a evaluar.\n",
        "- eval_args: diccionario de los argumentos que debe entregar a la funcion run_training.\n",
        "\n",
        "Retorna el resultado del entrenamiento."
      ]
    },
    {
      "cell_type": "code",
      "execution_count": null,
      "metadata": {
        "id": "_4XLc49R5uQY"
      },
      "outputs": [],
      "source": [
        "def run_evaluation(script_name: str, env_id: str, exp_name: str, checkpoint_path, eval_args: dict):\n",
        "    args = deepcopy(eval_args)\n",
        "\n",
        "    checkpoint = Path(checkpoint_path)\n",
        "    if not checkpoint.exists():\n",
        "        raise FileNotFoundError(f'No se encontró el checkpoint en {checkpoint}. Ajusta la ruta manualmente.')\n",
        "\n",
        "    extra_flags = ['--evaluate', f'--checkpoint={checkpoint.as_posix()}']\n",
        "    return # == COMPLETAR ==\n"
      ]
    },
    {
      "cell_type": "markdown",
      "metadata": {
        "id": "Pq8wOcWM3Yr2"
      },
      "source": [
        "---\n",
        "## **(A7) Entrenamiento PPO con observaciones de estado (2 ptos.)**\n",
        "\n",
        "Entrenamos primero utilizando la representación vectorial (`obs_mode=\"state\"`).\n"
      ]
    },
    {
      "cell_type": "markdown",
      "metadata": {
        "id": "5xfY485t3h-X"
      },
      "source": [
        "### 7.1 PushCube · Estado (1 pto.)\n",
        "\n",
        "Definimos el diccionario STATE_TRAINING_ARGS con los parametros:\n",
        "\n",
        "- num_envs: numero de ambientes a simular en paralelo (ten cuidado de no hacer este numero muy grande para no llenar la memoria de la GPU)\n",
        "- update_epochs: número de pasadas que hace PPO sobre la misma colección de datos antes de recolectar una trayectoria nueva; más épocas implican más pasos de optimización por batch\n",
        "- num_minibatches: cuántos minibatches se generan a partir del lote completo en cada epoch; controla el tamaño de cada actualización de gradiente.\n",
        "- total_timesteps: cantidad total de pasos de simulación que se ejecutarán a lo largo de todo el entrenamiento; define la duración global del experimento.\n",
        "- eval_freq: cada cuántos ciclos de entrenamiento se corre una evaluación del agente (en pasos de actualización); sirve para monitorear el desempeño.\n",
        "- num_steps: número de pasos que cada entorno acumula antes de detener el rollout y pasar a la fase de optimización; fija la longitud de las trayectorias recabadas en cada iteración.\n"
      ]
    },
    {
      "cell_type": "code",
      "execution_count": null,
      "metadata": {
        "id": "SGaVSMW_Cnx2"
      },
      "outputs": [],
      "source": [
        "STATE_TRAINING_ARGS = {\n",
        "    \"num_envs\": None, # == COMPLETAR ==\n",
        "    \"update_epochs\": None, # == COMPLETAR ==\n",
        "    \"num_minibatches\": None, # == COMPLETAR ==\n",
        "    \"total_timesteps\": None, # == COMPLETAR ==\n",
        "    \"eval_freq\": None, # == COMPLETAR ==\n",
        "    \"num_steps\": None # == COMPLETAR ==\n",
        "}"
      ]
    },
    {
      "cell_type": "markdown",
      "metadata": {
        "id": "tM8eaVKPCo0v"
      },
      "source": [
        "Ejecutamos el entrenamiento con los parametros definidos en la celda anterior, ppo basado en estados, el ambiente \"PushCube-v1\" y el nombre de experiencia \"state-pushcube\"."
      ]
    },
    {
      "cell_type": "code",
      "execution_count": null,
      "metadata": {
        "id": "bwCOA0Sk3uya"
      },
      "outputs": [],
      "source": [
        "# == COMPLETAR =="
      ]
    },
    {
      "cell_type": "markdown",
      "metadata": {
        "id": "qH3gVjIN3wrq"
      },
      "source": [
        "### 7.2 PullCube · Estado (1 pto.)\n",
        "\n",
        "Ejecutamos el entrenamiento de la misma manera que para el caso anterior pero se cambia el ambiente a \"PullCube-v1\" y el nombre de la experiencia a \"state-pullcube\"."
      ]
    },
    {
      "cell_type": "code",
      "execution_count": null,
      "metadata": {
        "id": "BrxX1P5M30hm"
      },
      "outputs": [],
      "source": [
        "# == COMPLETAR =="
      ]
    },
    {
      "cell_type": "markdown",
      "metadata": {
        "id": "q2JUANHD3261"
      },
      "source": [
        "---\n",
        "## **(A8) Entrenamiento PPO con observaciones visuales (2 ptos.)**\n",
        "\n",
        "Para esta etapa utilizamos el script `ppo_rgb.py`, que define una política con convoluciones para procesar imágenes.\n"
      ]
    },
    {
      "cell_type": "markdown",
      "metadata": {
        "id": "IDwNMEfD39Dl"
      },
      "source": [
        "### 8.1 PushCube · RGB (1 pto.)\n",
        "\n",
        "Definimos el diccionario RGB_TRAINING_ARGS con los mismos parametros que STATE_TRAINING_ARGS, define los valores considerando que este entrenamiento es más pesado y que utiliza más recursos, ademas converge más lento que el caso basado en estados.\n"
      ]
    },
    {
      "cell_type": "code",
      "execution_count": null,
      "metadata": {
        "id": "88e4EqD0EH0t"
      },
      "outputs": [],
      "source": [
        "RGB_TRAINING_ARGS = {\n",
        "    \"num_envs\": None, # == COMPLETAR ==\n",
        "    \"update_epochs\": None, # == COMPLETAR ==\n",
        "    \"num_minibatches\": None, # == COMPLETAR ==\n",
        "    \"total_timesteps\": None, # == COMPLETAR ==\n",
        "    \"eval_freq\": None, # == COMPLETAR ==\n",
        "    \"num_steps\": None # == COMPLETAR ==\n",
        "}"
      ]
    },
    {
      "cell_type": "markdown",
      "metadata": {
        "id": "6HVRsIQQEN8F"
      },
      "source": [
        "Ejecutamos el entrenamiento con los parametros definidos en la celda anterior, ppo basado en visualización, el ambiente \"PushCube-v1\" y el nombre de experiencia \"rgb-pushcube\"."
      ]
    },
    {
      "cell_type": "code",
      "execution_count": null,
      "metadata": {
        "id": "GszO-Bbb4AiR"
      },
      "outputs": [],
      "source": [
        "# == COMPLETAR =="
      ]
    },
    {
      "cell_type": "markdown",
      "metadata": {
        "id": "T5hiiEN44Duh"
      },
      "source": [
        "### 8.2 PullCube · RGB (1 pto.)\n",
        "\n",
        "Ejecutamos el entrenamiento de la misma manera que para el caso anterior pero se cambia el ambiente a \"PullCube-v1\" y el nombre de la experiencia a \"state-pullcube\".\n"
      ]
    },
    {
      "cell_type": "code",
      "execution_count": null,
      "metadata": {
        "id": "hdZm61Ty4LVn"
      },
      "outputs": [],
      "source": [
        "# == COMPLETAR =="
      ]
    },
    {
      "cell_type": "markdown",
      "metadata": {
        "id": "FXHgPGaK4N0L"
      },
      "source": [
        "---\n",
        "## **(A9) Visualización de resultados (1 pto.)**\n",
        "\n"
      ]
    },
    {
      "cell_type": "markdown",
      "metadata": {
        "id": "krU50mBq4VdA"
      },
      "source": [
        "### 9.1 Evaluación de políticas entrenadas (1 pto.)\n",
        "\n",
        "Ejecutamos un ciclo de evaluación sobre un checkpoint entrenado y guardamos los videos en `runs/<experimento>/test_videos/`.\n",
        "\n",
        "Definimos el diccionario EVALUATION_ARGS que incluye los parametros:\n",
        "- num_envs: int numero de ambientes simulados en paralelo, no utilices un numero muy grande para poder ver todos los videos en paralelo.\n",
        "- num_steps: int numero de pasos que se ejecutan en cada ambiente.\n",
        "- num_eval_envs:\n",
        "\n",
        "\n",
        "Aqui debes utilizar la función de evaluación para 2 experiencias distintas, para esto debes definir la ruta del CHECKPOINT_PATH para 2 entrenamientos.\n",
        "\n",
        "(Revisa los archivos de colab a mano izquierda, en `runs/experimento/final_ckpt.pt` estan la version final del entrenamiento para cada experimento)"
      ]
    },
    {
      "cell_type": "code",
      "execution_count": null,
      "metadata": {
        "id": "YBohA6qf4Xrn"
      },
      "outputs": [],
      "source": [
        "\n",
        "EVALUATION_ARGS = {\n",
        "    'num_envs': None, # == COMPLETAR ==\n",
        "    'num_steps': None, # == COMPLETAR ==\n",
        "    'num_eval_envs': None # == COMPLETAR ==\n",
        "}\n",
        "\n",
        "\n",
        "CHECKPOINT_PATH = Path() # == COMPLETAR ==\n",
        "id = CHECKPOINT_PATH.as_posix().split('/')[1]\n",
        "\n",
        "if 'state' in id:\n",
        "  script = \"ppo.py\"\n",
        "  if \"pushcube\" in id:\n",
        "    envid = \"PushCube-v1\"\n",
        "    exp = \"state-pushcube\"\n",
        "  else:\n",
        "    envid = \"PullCube-v1\"\n",
        "    exp = \"state-pullcube\"\n",
        "else:\n",
        "  script = \"ppo_rgb.py\"\n",
        "  if \"pushcube\" in id:\n",
        "    envid = \"PushCube-v1\"\n",
        "    exp = \"rgb-pushcube\"\n",
        "  else:\n",
        "    envid = \"PullCube-v1\"\n",
        "    exp = \"rgb-pullcube\"\n",
        "\n",
        "# == COMPLETAR ==\n",
        "\n",
        "\n",
        "CHECKPOINT_PATH2 = Path() # == COMPLETAR ==\n",
        "id2 = CHECKPOINT_PATH2.as_posix().split('/')[1]\n",
        "\n",
        "if 'state' in id2:\n",
        "  script2 = \"ppo.py\"\n",
        "  if \"pushcube\" in id2:\n",
        "    envid2 = \"PushCube-v1\"\n",
        "    exp2 = \"state-pushcube\"\n",
        "  else:\n",
        "    envid2 = \"PullCube-v1\"\n",
        "    exp2 = \"state-pullcube\"\n",
        "else:\n",
        "  script2 = \"ppo_rgb.py\"\n",
        "  if \"pushcube\" in id2:\n",
        "    envid2 = \"PushCube-v1\"\n",
        "    exp2 = \"rgb-pushcube\"\n",
        "  else:\n",
        "    envid = \"PullCube-v1\"\n",
        "    exp2 = \"rgb-pullcube\"\n",
        "\n",
        "# == COMPLETAR =="
      ]
    },
    {
      "cell_type": "markdown",
      "metadata": {
        "id": "zX5Tl2y6bU0a"
      },
      "source": [
        "Visualizamos el video utilizando la función definida en la primera parte de la actividad."
      ]
    },
    {
      "cell_type": "code",
      "execution_count": null,
      "metadata": {
        "id": "i_zrQ8BpbeSt"
      },
      "outputs": [],
      "source": [
        "# == COMPLETAR =="
      ]
    },
    {
      "cell_type": "code",
      "source": [
        "# == COMPLETAR =="
      ],
      "metadata": {
        "id": "EVuWufLwTO0P"
      },
      "execution_count": null,
      "outputs": []
    },
    {
      "cell_type": "markdown",
      "metadata": {
        "id": "Xvl7ZeBeg3Xk"
      },
      "source": [
        "### 9.2 Metricas con tensorboard.\n",
        "Utilizamos TensorBoard para revisar las métricas almacenadas en la carpeta `runs/`.\n",
        "\n",
        "No es necesario cambiar nada de la siguiente celda."
      ]
    },
    {
      "cell_type": "code",
      "execution_count": null,
      "metadata": {
        "id": "GJlG-b2cgz1R"
      },
      "outputs": [],
      "source": [
        "%load_ext tensorboard\n",
        "%tensorboard --logdir runs --port 6006"
      ]
    },
    {
      "cell_type": "markdown",
      "metadata": {
        "id": "ojra5MgM4miK"
      },
      "source": [
        "---\n",
        "## **(A10) Analisis PPO (2 pto.)**\n",
        "\n",
        "Responde las siguientes preguntas en la proxima celda:\n",
        "\n",
        "- ¿Cómo cambia la velocidad de convergencia entre observaciones por estado y RGB?\n",
        "- ¿Qué diferencias observas en la calidad de las trayectorias generadas?\n",
        "- ¿Que ventajas ves de utilizar la paralelización por GPU al entrenar estos casos, que ventajas podria tener esto para aplicaciones reales?.\n",
        "- ¿Para que caso crees que conviene utilizar entrenamiento por estado y en que caso conviene RGB?\n"
      ]
    },
    {
      "cell_type": "markdown",
      "metadata": {
        "id": "iSxq0ZuikdJ1"
      },
      "source": [
        "---\n",
        "\n",
        "*(Rellena con tu respuesta aqui)*\n",
        "\n",
        "\n",
        "---"
      ]
    }
  ],
  "metadata": {
    "accelerator": "GPU",
    "colab": {
      "gpuType": "T4",
      "provenance": []
    },
    "kernelspec": {
      "display_name": "Python 3",
      "name": "python3"
    },
    "language_info": {
      "name": "python"
    }
  },
  "nbformat": 4,
  "nbformat_minor": 0
}