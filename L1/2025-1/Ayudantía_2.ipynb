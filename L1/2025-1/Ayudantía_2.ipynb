{
  "nbformat": 4,
  "nbformat_minor": 0,
  "metadata": {
    "colab": {
      "provenance": []
    },
    "kernelspec": {
      "name": "python3",
      "display_name": "Python 3"
    },
    "language_info": {
      "name": "python"
    }
  },
  "cells": [
    {
      "cell_type": "markdown",
      "source": [
        "# Ayudantía 2"
      ],
      "metadata": {
        "id": "-dViU1UDr_j0"
      }
    },
    {
      "cell_type": "markdown",
      "source": [
        "27 de Marzo 2025\n",
        "\n",
        "Juan Pablo Tapia\n",
        "\n",
        "jp.tapia@uc.cl"
      ],
      "metadata": {
        "id": "XleI0D7tm4FK"
      }
    },
    {
      "cell_type": "markdown",
      "source": [
        "## Laboratorio 1 Parte 1"
      ],
      "metadata": {
        "id": "9Yy5B8qssME0"
      }
    },
    {
      "cell_type": "markdown",
      "source": [
        "Esta ayudantia es una solucion simple de la parte 1"
      ],
      "metadata": {
        "id": "cN2cl4l8p7fU"
      }
    },
    {
      "cell_type": "markdown",
      "source": [
        "### 1. Modelación de la jerarquía:"
      ],
      "metadata": {
        "id": "jnWo7qIzwAij"
      }
    },
    {
      "cell_type": "code",
      "source": [
        "class Ciudad:\n",
        "  def __init__(self, nombre):\n",
        "    self.nombre = nombre\n",
        "    self.comunas = []\n",
        "\n",
        "  def agregar_comuna(self, comuna):\n",
        "    self.comunas.append(comuna)\n",
        "\n",
        "  def info_ciudad(self):\n",
        "    cantidad_comunas = len(self.comunas)\n",
        "    cantidad_barrios = sum([len(comuna.barrios) for comuna in self.comunas])\n",
        "    return f\"La ciudad {self.nombre} tiene {cantidad_comunas} comunas y {cantidad_barrios} barrios.\"\n",
        "\n",
        "class Comuna:\n",
        "  def __init__(self, nombre):\n",
        "    self.nombre = nombre\n",
        "    self.barrios = []\n",
        "\n",
        "  def agregar_barrio(self, barrio):\n",
        "    self.barrios.append(barrio)\n",
        "\n",
        "  def info_comuna(self):\n",
        "    tipos_barrios = {}\n",
        "    for barrio in self.barrios:\n",
        "      if barrio.tipo in tipos_barrios:\n",
        "        tipos_barrios[barrio.tipo] += 1\n",
        "      else:\n",
        "        tipos_barrios[barrio.tipo] = 1\n",
        "    barrios = list(tipos_barrios.keys())\n",
        "    cantidad = list(tipos_barrios.values())\n",
        "    print(f\"\\nEn la comuna {self.nombre} hay:\")\n",
        "    for i in range(len(barrios)):\n",
        "      print(f\"- {cantidad[i]} barrios de tipo {barrios[i]}.\")\n",
        "\n",
        "class Barrio:\n",
        "  def __init__(self, nombre, tipo):\n",
        "    self.nombre = nombre\n",
        "    self.tipo = tipo\n",
        "    self.subbarrios = []\n",
        "\n",
        "  def agregar_subbarrio(self, subbarrio):\n",
        "    self.subbarrios.append(subbarrio)\n",
        "\n",
        "  def poblacion_barrio(self):\n",
        "    poblacion_total = 0\n",
        "    for subbarrio in self.subbarrios:\n",
        "      poblacion_total += subbarrio.poblacion\n",
        "    return f\"La poblacion total de {self.nombre} es de: {poblacion_total} habitantes\"\n",
        "\n",
        "  def superficie_barrio(self):\n",
        "    superficie_total = 0\n",
        "    for subbarrio in self.subbarrios:\n",
        "      superficie_total += subbarrio.superficie\n",
        "    return f\"La superficie total de {self.nombre} es de: {superficie_total} km^2\"\n",
        "\n",
        "class SubBarrio(Barrio):\n",
        "  def __init__(self, nombre, tipo, poblacion, superficie):\n",
        "    super().__init__(nombre, tipo)\n",
        "    self.poblacion = poblacion\n",
        "    self.superficie = superficie\n"
      ],
      "metadata": {
        "id": "LImqqULBhOk-"
      },
      "execution_count": 51,
      "outputs": []
    },
    {
      "cell_type": "markdown",
      "source": [
        "### 2. Modelación de las expansiones:"
      ],
      "metadata": {
        "id": "i6U__yZwwEYp"
      }
    },
    {
      "cell_type": "code",
      "source": [
        "class Expansion:\n",
        "  def __init__(self, nombre, costo, estado, duracion, barrios_afectados):\n",
        "    self.nombre = nombre\n",
        "    self.costo = costo\n",
        "    self.estado = estado\n",
        "    self.duracion = duracion\n",
        "    self.barrios_afectados = barrios_afectados\n",
        "\n",
        "  def obtener_info(self):\n",
        "    return f\"Expansión: {self.nombre}\\nCosto: ${self.costo}\\nEstado: {self.estado}\\nDuración: {self.duracion} meses\"\n",
        "\n",
        "class ExpansionComercial(Expansion):\n",
        "  def __init__(self, costo, estado, duracion, barrios_afectados):\n",
        "    super().__init__(costo, estado, duracion, barrios_afectados)\n",
        "\n",
        "class ExpansionResidencial(Expansion):\n",
        "  def __init__(self, costo, estado, duracion, barrios_afectados):\n",
        "    super().__init__(costo, estado, duracion, barrios_afectados)"
      ],
      "metadata": {
        "id": "w_ETwUsyhvEG"
      },
      "execution_count": 47,
      "outputs": []
    },
    {
      "cell_type": "markdown",
      "source": [
        "### 3. Recorridos y Análisis:"
      ],
      "metadata": {
        "id": "B8ctt_66wKYi"
      }
    },
    {
      "cell_type": "code",
      "source": [
        "ciudad = Ciudad(\"Santiago\")\n",
        "\n",
        "comuna1 = Comuna(\"Providencia\")\n",
        "comuna2 = Comuna(\"Las Condes\")\n",
        "\n",
        "barrio1 = Barrio(\"Barrio Italia\", \"Mixto\")\n",
        "barrio2 = Barrio(\"El Golf\", \"Comercial\")\n",
        "barrio3 = Barrio(\"Ñuñoa Centro\", \"Residencial\")\n",
        "\n",
        "comuna1.agregar_barrio(barrio1)\n",
        "comuna1.agregar_barrio(barrio3)\n",
        "comuna2.agregar_barrio(barrio2)\n",
        "\n",
        "ciudad.agregar_comuna(comuna1)\n",
        "ciudad.agregar_comuna(comuna2)\n",
        "\n",
        "subbarrio1 = SubBarrio(\"Italia Norte\", \"Mixto\", 20000, 2.5)\n",
        "subbarrio2 = SubBarrio(\"Italia Sur\", \"Residencial\", 15000, 3.0)\n",
        "subbarrio3 = SubBarrio(\"El Golf Sur\", \"Comercial\", 18000, 2.0)\n",
        "barrio1.agregar_subbarrio(subbarrio1)\n",
        "barrio1.agregar_subbarrio(subbarrio2)\n",
        "barrio2.agregar_subbarrio(subbarrio3)\n",
        "\n",
        "exp1 = Expansion(\"Nueva Ciclovía\", 500000, \"En proceso\", 12, [barrio1, barrio3])\n",
        "exp2 = Expansion(\"Renovación Plaza\", 300000, \"Planeada\", 6, [barrio2])\n",
        "exp3 = Expansion(\"Nuevo Centro Comercial\", 800000, \"Finalizada\", 18, [barrio2, barrio1])\n",
        "\n",
        "print(ciudad.info_ciudad())\n",
        "\n",
        "for comuna in ciudad.comunas:\n",
        "  comuna.info_comuna()\n",
        "\n",
        "print(\"\\nNúmero de barrios por categoría:\")\n",
        "categorias = {\"Residencial\": 0, \"Comercial\": 0, \"Mixto\": 0}\n",
        "for comuna in ciudad.comunas:\n",
        "    for barrio in comuna.barrios:\n",
        "        categorias[barrio.tipo] += 1\n",
        "\n",
        "for tipo, cantidad in categorias.items():\n",
        "    print(f\"- {tipo}: {cantidad}\")\n",
        "\n",
        "for comuna in ciudad.comunas:\n",
        "  print(f\"\\nComuna: {comuna.nombre}\")\n",
        "  for barrio in comuna.barrios:\n",
        "    print(barrio.poblacion_barrio())\n",
        "    print(barrio.superficie_barrio())\n",
        "\n",
        "print(\"\\nCosto total de expansiones en proceso por comuna:\")\n",
        "for comuna in ciudad.comunas:\n",
        "    costo_total = sum(exp.costo for exp in [exp1, exp2, exp3] if exp.estado == \"En proceso\" and any(b in comuna.barrios for b in exp.barrios_afectados))\n",
        "    print(f\"- {comuna.nombre}: ${costo_total}\")\n",
        "\n",
        "print(\"\\nExpansiones activas:\")\n",
        "for expansion in [exp1, exp2, exp3]:\n",
        "    print(expansion.obtener_info())"
      ],
      "metadata": {
        "colab": {
          "base_uri": "https://localhost:8080/"
        },
        "id": "knpqwPflooQ0",
        "outputId": "e972a731-9525-4249-95e6-a79951f5bd0c"
      },
      "execution_count": 58,
      "outputs": [
        {
          "output_type": "stream",
          "name": "stdout",
          "text": [
            "La ciudad Santiago tiene 2 comunas y 3 barrios.\n",
            "\n",
            "En la comuna Providencia hay:\n",
            "- 1 barrios de tipo Mixto.\n",
            "- 1 barrios de tipo Residencial.\n",
            "\n",
            "En la comuna Las Condes hay:\n",
            "- 1 barrios de tipo Comercial.\n",
            "\n",
            "Número de barrios por categoría:\n",
            "- Residencial: 1\n",
            "- Comercial: 1\n",
            "- Mixto: 1\n",
            "\n",
            "Comuna: Providencia\n",
            "La poblacion total de Barrio Italia es de: 35000 habitantes\n",
            "La superficie total de Barrio Italia es de: 5.5 km^2\n",
            "La poblacion total de Ñuñoa Centro es de: 0 habitantes\n",
            "La superficie total de Ñuñoa Centro es de: 0 km^2\n",
            "\n",
            "Comuna: Las Condes\n",
            "La poblacion total de El Golf es de: 18000 habitantes\n",
            "La superficie total de El Golf es de: 2.0 km^2\n",
            "\n",
            "Costo total de expansiones en proceso por comuna:\n",
            "- Providencia: $500000\n",
            "- Las Condes: $0\n",
            "\n",
            "Expansiones activas:\n",
            "Expansión: Nueva Ciclovía\n",
            "Costo: $500000\n",
            "Estado: En proceso\n",
            "Duración: 12 meses\n",
            "Expansión: Renovación Plaza\n",
            "Costo: $300000\n",
            "Estado: Planeada\n",
            "Duración: 6 meses\n",
            "Expansión: Nuevo Centro Comercial\n",
            "Costo: $800000\n",
            "Estado: Finalizada\n",
            "Duración: 18 meses\n"
          ]
        }
      ]
    }
  ]
}